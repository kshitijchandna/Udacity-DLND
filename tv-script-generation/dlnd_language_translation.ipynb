{
 "cells": [
  {
   "cell_type": "markdown",
   "metadata": {
    "collapsed": true,
    "deletable": true,
    "editable": true
   },
   "source": [
    "# Language Translation\n",
    "In this project, you’re going to take a peek into the realm of neural network machine translation.  You’ll be training a sequence to sequence model on a dataset of English and French sentences that can translate new sentences from English to French.\n",
    "## Get the Data\n",
    "Since translating the whole language of English to French will take lots of time to train, we have provided you with a small portion of the English corpus."
   ]
  },
  {
   "cell_type": "code",
   "execution_count": 1,
   "metadata": {
    "collapsed": true,
    "deletable": true,
    "editable": true
   },
   "outputs": [],
   "source": [
    "\"\"\"\n",
    "DON'T MODIFY ANYTHING IN THIS CELL\n",
    "\"\"\"\n",
    "import helper\n",
    "import problem_unittests as tests\n",
    "\n",
    "source_path = 'data/small_vocab_en'\n",
    "target_path = 'data/small_vocab_fr'\n",
    "source_text = helper.load_data(source_path)\n",
    "target_text = helper.load_data(target_path)"
   ]
  },
  {
   "cell_type": "markdown",
   "metadata": {
    "deletable": true,
    "editable": true
   },
   "source": [
    "## Explore the Data\n",
    "Play around with view_sentence_range to view different parts of the data."
   ]
  },
  {
   "cell_type": "code",
   "execution_count": 2,
   "metadata": {
    "collapsed": false,
    "deletable": true,
    "editable": true
   },
   "outputs": [
    {
     "name": "stdout",
     "output_type": "stream",
     "text": [
      "Dataset Stats\n",
      "Roughly the number of unique words: 227\n",
      "Number of sentences: 137861\n",
      "Average number of words in a sentence: 13.225277634719028\n",
      "\n",
      "English sentences 0 to 10:\n",
      "new jersey is sometimes quiet during autumn , and it is snowy in april .\n",
      "the united states is usually chilly during july , and it is usually freezing in november .\n",
      "california is usually quiet during march , and it is usually hot in june .\n",
      "the united states is sometimes mild during june , and it is cold in september .\n",
      "your least liked fruit is the grape , but my least liked is the apple .\n",
      "his favorite fruit is the orange , but my favorite is the grape .\n",
      "paris is relaxing during december , but it is usually chilly in july .\n",
      "new jersey is busy during spring , and it is never hot in march .\n",
      "our least liked fruit is the lemon , but my least liked is the grape .\n",
      "the united states is sometimes busy during january , and it is sometimes warm in november .\n",
      "\n",
      "French sentences 0 to 10:\n",
      "new jersey est parfois calme pendant l' automne , et il est neigeux en avril .\n",
      "les états-unis est généralement froid en juillet , et il gèle habituellement en novembre .\n",
      "california est généralement calme en mars , et il est généralement chaud en juin .\n",
      "les états-unis est parfois légère en juin , et il fait froid en septembre .\n",
      "votre moins aimé fruit est le raisin , mais mon moins aimé est la pomme .\n",
      "son fruit préféré est l'orange , mais mon préféré est le raisin .\n",
      "paris est relaxant en décembre , mais il est généralement froid en juillet .\n",
      "new jersey est occupé au printemps , et il est jamais chaude en mars .\n",
      "notre fruit est moins aimé le citron , mais mon moins aimé est le raisin .\n",
      "les états-unis est parfois occupé en janvier , et il est parfois chaud en novembre .\n"
     ]
    }
   ],
   "source": [
    "view_sentence_range = (0, 10)\n",
    "\n",
    "\"\"\"\n",
    "DON'T MODIFY ANYTHING IN THIS CELL\n",
    "\"\"\"\n",
    "import numpy as np\n",
    "\n",
    "print('Dataset Stats')\n",
    "print('Roughly the number of unique words: {}'.format(len({word: None for word in source_text.split()})))\n",
    "\n",
    "sentences = source_text.split('\\n')\n",
    "word_counts = [len(sentence.split()) for sentence in sentences]\n",
    "print('Number of sentences: {}'.format(len(sentences)))\n",
    "print('Average number of words in a sentence: {}'.format(np.average(word_counts)))\n",
    "\n",
    "print()\n",
    "print('English sentences {} to {}:'.format(*view_sentence_range))\n",
    "print('\\n'.join(source_text.split('\\n')[view_sentence_range[0]:view_sentence_range[1]]))\n",
    "print()\n",
    "print('French sentences {} to {}:'.format(*view_sentence_range))\n",
    "print('\\n'.join(target_text.split('\\n')[view_sentence_range[0]:view_sentence_range[1]]))"
   ]
  },
  {
   "cell_type": "markdown",
   "metadata": {
    "deletable": true,
    "editable": true
   },
   "source": [
    "## Implement Preprocessing Function\n",
    "### Text to Word Ids\n",
    "As you did with other RNNs, you must turn the text into a number so the computer can understand it. In the function `text_to_ids()`, you'll turn `source_text` and `target_text` from words to ids.  However, you need to add the `<EOS>` word id at the end of `target_text`.  This will help the neural network predict when the sentence should end.\n",
    "\n",
    "You can get the `<EOS>` word id by doing:\n",
    "```python\n",
    "target_vocab_to_int['<EOS>']\n",
    "```\n",
    "You can get other word ids using `source_vocab_to_int` and `target_vocab_to_int`."
   ]
  },
  {
   "cell_type": "code",
   "execution_count": 4,
   "metadata": {
    "collapsed": false,
    "deletable": true,
    "editable": true
   },
   "outputs": [
    {
     "name": "stdout",
     "output_type": "stream",
     "text": [
      "Tests Passed\n"
     ]
    }
   ],
   "source": [
    "def text_to_ids(source_text, target_text, source_vocab_to_int, target_vocab_to_int):\n",
    "    \"\"\"\n",
    "    Convert source and target text to proper word ids\n",
    "    :param source_text: String that contains all the source text.\n",
    "    :param target_text: String that contains all the target text.\n",
    "    :param source_vocab_to_int: Dictionary to go from the source words to an id\n",
    "    :param target_vocab_to_int: Dictionary to go from the target words to an id\n",
    "    :return: A tuple of lists (source_id_text, target_id_text)\n",
    "    \"\"\"\n",
    "    # TODO: Implement Function\n",
    "    source_id_text = [[source_vocab_to_int[word] for word in sentence.split()] \n",
    "                       for sentence in source_text.split('\\n')] \n",
    "    target_id_text = [[target_vocab_to_int[word] for word in sentence.split()] + [target_vocab_to_int['<EOS>'] ]  \n",
    "                       for sentence in target_text.split('\\n')]\n",
    "    \n",
    "    return (source_id_text, target_id_text)\n",
    "    \n",
    "\n",
    "\"\"\"\n",
    "DON'T MODIFY ANYTHING IN THIS CELL THAT IS BELOW THIS LINE\n",
    "\"\"\"\n",
    "tests.test_text_to_ids(text_to_ids)"
   ]
  },
  {
   "cell_type": "markdown",
   "metadata": {
    "deletable": true,
    "editable": true
   },
   "source": [
    "### Preprocess all the data and save it\n",
    "Running the code cell below will preprocess all the data and save it to file."
   ]
  },
  {
   "cell_type": "code",
   "execution_count": 5,
   "metadata": {
    "collapsed": true,
    "deletable": true,
    "editable": true
   },
   "outputs": [],
   "source": [
    "\"\"\"\n",
    "DON'T MODIFY ANYTHING IN THIS CELL\n",
    "\"\"\"\n",
    "helper.preprocess_and_save_data(source_path, target_path, text_to_ids)"
   ]
  },
  {
   "cell_type": "markdown",
   "metadata": {
    "deletable": true,
    "editable": true
   },
   "source": [
    "# Check Point\n",
    "This is your first checkpoint. If you ever decide to come back to this notebook or have to restart the notebook, you can start from here. The preprocessed data has been saved to disk."
   ]
  },
  {
   "cell_type": "code",
   "execution_count": 6,
   "metadata": {
    "collapsed": true,
    "deletable": true,
    "editable": true
   },
   "outputs": [],
   "source": [
    "\"\"\"\n",
    "DON'T MODIFY ANYTHING IN THIS CELL\n",
    "\"\"\"\n",
    "import numpy as np\n",
    "import helper\n",
    "\n",
    "(source_int_text, target_int_text), (source_vocab_to_int, target_vocab_to_int), _ = helper.load_preprocess()"
   ]
  },
  {
   "cell_type": "markdown",
   "metadata": {
    "deletable": true,
    "editable": true
   },
   "source": [
    "### Check the Version of TensorFlow and Access to GPU\n",
    "This will check to make sure you have the correct version of TensorFlow and access to a GPU"
   ]
  },
  {
   "cell_type": "code",
   "execution_count": 7,
   "metadata": {
    "collapsed": false,
    "deletable": true,
    "editable": true
   },
   "outputs": [
    {
     "name": "stdout",
     "output_type": "stream",
     "text": [
      "TensorFlow Version: 1.2.1\n",
      "Default GPU Device: /gpu:0\n"
     ]
    }
   ],
   "source": [
    "\"\"\"\n",
    "DON'T MODIFY ANYTHING IN THIS CELL\n",
    "\"\"\"\n",
    "from distutils.version import LooseVersion\n",
    "import warnings\n",
    "import tensorflow as tf\n",
    "from tensorflow.python.layers.core import Dense\n",
    "\n",
    "# Check TensorFlow Version\n",
    "assert LooseVersion(tf.__version__) >= LooseVersion('1.1'), 'Please use TensorFlow version 1.1 or newer'\n",
    "print('TensorFlow Version: {}'.format(tf.__version__))\n",
    "\n",
    "# Check for a GPU\n",
    "if not tf.test.gpu_device_name():\n",
    "    warnings.warn('No GPU found. Please use a GPU to train your neural network.')\n",
    "else:\n",
    "    print('Default GPU Device: {}'.format(tf.test.gpu_device_name()))"
   ]
  },
  {
   "cell_type": "markdown",
   "metadata": {
    "deletable": true,
    "editable": true
   },
   "source": [
    "## Build the Neural Network\n",
    "You'll build the components necessary to build a Sequence-to-Sequence model by implementing the following functions below:\n",
    "- `model_inputs`\n",
    "- `process_decoder_input`\n",
    "- `encoding_layer`\n",
    "- `decoding_layer_train`\n",
    "- `decoding_layer_infer`\n",
    "- `decoding_layer`\n",
    "- `seq2seq_model`\n",
    "\n",
    "### Input\n",
    "Implement the `model_inputs()` function to create TF Placeholders for the Neural Network. It should create the following placeholders:\n",
    "\n",
    "- Input text placeholder named \"input\" using the TF Placeholder name parameter with rank 2.\n",
    "- Targets placeholder with rank 2.\n",
    "- Learning rate placeholder with rank 0.\n",
    "- Keep probability placeholder named \"keep_prob\" using the TF Placeholder name parameter with rank 0.\n",
    "- Target sequence length placeholder named \"target_sequence_length\" with rank 1\n",
    "- Max target sequence length tensor named \"max_target_len\" getting its value from applying tf.reduce_max on the target_sequence_length placeholder. Rank 0.\n",
    "- Source sequence length placeholder named \"source_sequence_length\" with rank 1\n",
    "\n",
    "Return the placeholders in the following the tuple (input, targets, learning rate, keep probability, target sequence length, max target sequence length, source sequence length)"
   ]
  },
  {
   "cell_type": "code",
   "execution_count": 8,
   "metadata": {
    "collapsed": false,
    "deletable": true,
    "editable": true
   },
   "outputs": [
    {
     "name": "stdout",
     "output_type": "stream",
     "text": [
      "Tests Passed\n"
     ]
    }
   ],
   "source": [
    "def model_inputs():\n",
    "    \"\"\"\n",
    "    Create TF Placeholders for input, targets, learning rate, and lengths of source and target sequences.\n",
    "    :return: Tuple (input, targets, learning rate, keep probability, target sequence length,\n",
    "    max target sequence length, source sequence length)\n",
    "    \"\"\"\n",
    "    # TODO: Implement Function\n",
    "    inputs = tf.placeholder(tf.int32, shape=(None, None), name='input')\n",
    "    targets = tf.placeholder(tf.int32, shape=(None, None))\n",
    "    learning_rate = tf.placeholder(tf.float32,[],name='lr')\n",
    "    keep_prob = tf.placeholder(tf.float32,[], name='keep_prob')\n",
    "    target_sequence_length=tf.placeholder(tf.int32,[None],name='target_sequence_length')\n",
    "    max_target_sequence_length=tf.reduce_max(target_sequence_length)\n",
    "    source_sequence_length=tf.placeholder(tf.int32,[None],name='source_sequence_length')\n",
    "    return (inputs, targets, learning_rate, keep_prob,target_sequence_length,max_target_sequence_length,source_sequence_length)\n",
    "    \n",
    "\n",
    "\n",
    "\"\"\"\n",
    "DON'T MODIFY ANYTHING IN THIS CELL THAT IS BELOW THIS LINE\n",
    "\"\"\"\n",
    "tests.test_model_inputs(model_inputs)"
   ]
  },
  {
   "cell_type": "markdown",
   "metadata": {
    "deletable": true,
    "editable": true
   },
   "source": [
    "### Process Decoder Input\n",
    "Implement `process_decoder_input` by removing the last word id from each batch in `target_data` and concat the GO ID to the begining of each batch."
   ]
  },
  {
   "cell_type": "code",
   "execution_count": 9,
   "metadata": {
    "collapsed": false,
    "deletable": true,
    "editable": true
   },
   "outputs": [
    {
     "name": "stdout",
     "output_type": "stream",
     "text": [
      "Tests Passed\n"
     ]
    }
   ],
   "source": [
    "def process_decoder_input(target_data, target_vocab_to_int, batch_size):\n",
    "    \"\"\"\n",
    "    Preprocess target data for encoding\n",
    "    :param target_data: Target Placehoder\n",
    "    :param target_vocab_to_int: Dictionary to go from the target words to an id\n",
    "    :param batch_size: Batch Size\n",
    "    :return: Preprocessed target data\n",
    "    \"\"\"\n",
    "    # TODO: Implement Function\n",
    "    a = tf.strided_slice(target_data, [0, 0], [batch_size, -1], [1, 1])\n",
    "    b = tf.fill([batch_size, 1], target_vocab_to_int['<GO>'])\n",
    "    c = tf.concat([b, a], 1)\n",
    "    \n",
    "    return c\n",
    "\n",
    "\n",
    "\"\"\"\n",
    "DON'T MODIFY ANYTHING IN THIS CELL THAT IS BELOW THIS LINE\n",
    "\"\"\"\n",
    "tests.test_process_encoding_input(process_decoder_input)"
   ]
  },
  {
   "cell_type": "markdown",
   "metadata": {
    "deletable": true,
    "editable": true
   },
   "source": [
    "### Encoding\n",
    "Implement `encoding_layer()` to create a Encoder RNN layer:\n",
    " * Embed the encoder input using [`tf.contrib.layers.embed_sequence`](https://www.tensorflow.org/api_docs/python/tf/contrib/layers/embed_sequence)\n",
    " * Construct a [stacked](https://github.com/tensorflow/tensorflow/blob/6947f65a374ebf29e74bb71e36fd82760056d82c/tensorflow/docs_src/tutorials/recurrent.md#stacking-multiple-lstms) [`tf.contrib.rnn.LSTMCell`](https://www.tensorflow.org/api_docs/python/tf/contrib/rnn/LSTMCell) wrapped in a [`tf.contrib.rnn.DropoutWrapper`](https://www.tensorflow.org/api_docs/python/tf/contrib/rnn/DropoutWrapper)\n",
    " * Pass cell and embedded input to [`tf.nn.dynamic_rnn()`](https://www.tensorflow.org/api_docs/python/tf/nn/dynamic_rnn)"
   ]
  },
  {
   "cell_type": "code",
   "execution_count": 10,
   "metadata": {
    "collapsed": false,
    "deletable": true,
    "editable": true,
    "scrolled": false
   },
   "outputs": [
    {
     "name": "stdout",
     "output_type": "stream",
     "text": [
      "Tests Passed\n"
     ]
    }
   ],
   "source": [
    "from imp import reload\n",
    "reload(tests)\n",
    "\n",
    "def encoding_layer(rnn_inputs, rnn_size, num_layers, keep_prob, \n",
    "                   source_sequence_length, source_vocab_size, \n",
    "                   encoding_embedding_size):\n",
    "    \"\"\"\n",
    "    Create encoding layer\n",
    "    :param rnn_inputs: Inputs for the RNN\n",
    "    :param rnn_size: RNN Size\n",
    "    :param num_layers: Number of layers\n",
    "    :param keep_prob: Dropout keep probability\n",
    "    :param source_sequence_length: a list of the lengths of each sequence in the batch\n",
    "    :param source_vocab_size: vocabulary size of source data\n",
    "    :param encoding_embedding_size: embedding size of source data\n",
    "    :return: tuple (RNN output, RNN state)\n",
    "    \"\"\"\n",
    "    # TODO: Implement Function\n",
    "    embed = tf.contrib.layers.embed_sequence(rnn_inputs, vocab_size=source_vocab_size, embed_dim=encoding_embedding_size,\n",
    "                             trainable=False)\n",
    "    lstms = [tf.contrib.rnn.DropoutWrapper(tf.contrib.rnn.LSTMCell(rnn_size), input_keep_prob=keep_prob) \n",
    "             for _ in range(num_layers)]\n",
    "    cell = tf.contrib.rnn.MultiRNNCell(lstms)\n",
    "    \n",
    "    rnn, state = tf.nn.dynamic_rnn(cell, embed, sequence_length=source_sequence_length, dtype=tf.float32)\n",
    "    \n",
    "    return rnn, state\n",
    "\"\"\"\n",
    "DON'T MODIFY ANYTHING IN THIS CELL THAT IS BELOW THIS LINE\n",
    "\"\"\"\n",
    "tests.test_encoding_layer(encoding_layer)"
   ]
  },
  {
   "cell_type": "markdown",
   "metadata": {
    "deletable": true,
    "editable": true
   },
   "source": [
    "### Decoding - Training\n",
    "Create a training decoding layer:\n",
    "* Create a [`tf.contrib.seq2seq.TrainingHelper`](https://www.tensorflow.org/api_docs/python/tf/contrib/seq2seq/TrainingHelper) \n",
    "* Create a [`tf.contrib.seq2seq.BasicDecoder`](https://www.tensorflow.org/api_docs/python/tf/contrib/seq2seq/BasicDecoder)\n",
    "* Obtain the decoder outputs from [`tf.contrib.seq2seq.dynamic_decode`](https://www.tensorflow.org/api_docs/python/tf/contrib/seq2seq/dynamic_decode)"
   ]
  },
  {
   "cell_type": "code",
   "execution_count": 11,
   "metadata": {
    "collapsed": false,
    "deletable": true,
    "editable": true
   },
   "outputs": [
    {
     "name": "stdout",
     "output_type": "stream",
     "text": [
      "Tests Passed\n"
     ]
    }
   ],
   "source": [
    "\n",
    "def decoding_layer_train(encoder_state, dec_cell, dec_embed_input, \n",
    "                         target_sequence_length, max_summary_length, \n",
    "                         output_layer, keep_prob):\n",
    "    \"\"\"\n",
    "    Create a decoding layer for training\n",
    "    :param encoder_state: Encoder State\n",
    "    :param dec_cell: Decoder RNN Cell\n",
    "    :param dec_embed_input: Decoder embedded input\n",
    "    :param target_sequence_length: The lengths of each sequence in the target batch\n",
    "    :param max_summary_length: The length of the longest sequence in the batch\n",
    "    :param output_layer: Function to apply the output layer\n",
    "    :param keep_prob: Dropout keep probability\n",
    "    :return: BasicDecoderOutput containing training logits and sample_id\n",
    "    \"\"\"\n",
    "    # TODO: Implement Function\n",
    "    helper = tf.contrib.seq2seq.TrainingHelper(dec_embed_input, target_sequence_length)\n",
    "    Decoder = tf.contrib.seq2seq.BasicDecoder(dec_cell, helper, encoder_state, output_layer=output_layer)\n",
    "    \n",
    "    Output = tf.contrib.seq2seq.dynamic_decode(Decoder, impute_finished=True, maximum_iterations=max_summary_length)\n",
    "    \n",
    "    return Output[0]\n",
    "   \n",
    "\n",
    "\n",
    "\n",
    "\"\"\"\n",
    "DON'T MODIFY ANYTHING IN THIS CELL THAT IS BELOW THIS LINE\n",
    "\"\"\"\n",
    "tests.test_decoding_layer_train(decoding_layer_train)"
   ]
  },
  {
   "cell_type": "markdown",
   "metadata": {
    "deletable": true,
    "editable": true
   },
   "source": [
    "### Decoding - Inference\n",
    "Create inference decoder:\n",
    "* Create a [`tf.contrib.seq2seq.GreedyEmbeddingHelper`](https://www.tensorflow.org/api_docs/python/tf/contrib/seq2seq/GreedyEmbeddingHelper)\n",
    "* Create a [`tf.contrib.seq2seq.BasicDecoder`](https://www.tensorflow.org/api_docs/python/tf/contrib/seq2seq/BasicDecoder)\n",
    "* Obtain the decoder outputs from [`tf.contrib.seq2seq.dynamic_decode`](https://www.tensorflow.org/api_docs/python/tf/contrib/seq2seq/dynamic_decode)"
   ]
  },
  {
   "cell_type": "code",
   "execution_count": 12,
   "metadata": {
    "collapsed": false,
    "deletable": true,
    "editable": true,
    "scrolled": true
   },
   "outputs": [
    {
     "name": "stdout",
     "output_type": "stream",
     "text": [
      "Tests Passed\n"
     ]
    }
   ],
   "source": [
    "def decoding_layer_infer(encoder_state, dec_cell, dec_embeddings, start_of_sequence_id,\n",
    "                         end_of_sequence_id, max_target_sequence_length,\n",
    "                         vocab_size, output_layer, batch_size, keep_prob):\n",
    "    \"\"\"\n",
    "    Create a decoding layer for inference\n",
    "    :param encoder_state: Encoder state\n",
    "    :param dec_cell: Decoder RNN Cell\n",
    "    :param dec_embeddings: Decoder embeddings\n",
    "    :param start_of_sequence_id: GO ID\n",
    "    :param end_of_sequence_id: EOS Id\n",
    "    :param max_target_sequence_length: Maximum length of target sequences\n",
    "    :param vocab_size: Size of decoder/target vocabulary\n",
    "    :param decoding_scope: TenorFlow Variable Scope for decoding\n",
    "    :param output_layer: Function to apply the output layer\n",
    "    :param batch_size: Batch size\n",
    "    :param keep_prob: Dropout keep probability\n",
    "    :return: BasicDecoderOutput containing inference logits and sample_id\n",
    "    \"\"\"\n",
    "    # TODO: Implement Function\n",
    "    embedding_helper = tf.contrib.seq2seq.GreedyEmbeddingHelper(dec_embeddings,\n",
    "                                                                [start_of_sequence_id] * batch_size,\n",
    "                                                                end_of_sequence_id)\n",
    "    decoder = tf.contrib.seq2seq.BasicDecoder(dec_cell, embedding_helper, encoder_state, output_layer=output_layer)\n",
    "    output = tf.contrib.seq2seq.dynamic_decode(decoder, maximum_iterations=max_target_sequence_length)\n",
    "    \n",
    "    return output[0]\n",
    "\n",
    "    \n",
    "\n",
    "\n",
    "\n",
    "\"\"\"\n",
    "DON'T MODIFY ANYTHING IN THIS CELL THAT IS BELOW THIS LINE\n",
    "\"\"\"\n",
    "tests.test_decoding_layer_infer(decoding_layer_infer)"
   ]
  },
  {
   "cell_type": "markdown",
   "metadata": {
    "deletable": true,
    "editable": true
   },
   "source": [
    "### Build the Decoding Layer\n",
    "Implement `decoding_layer()` to create a Decoder RNN layer.\n",
    "\n",
    "* Embed the target sequences\n",
    "* Construct the decoder LSTM cell (just like you constructed the encoder cell above)\n",
    "* Create an output layer to map the outputs of the decoder to the elements of our vocabulary\n",
    "* Use the your `decoding_layer_train(encoder_state, dec_cell, dec_embed_input, target_sequence_length, max_target_sequence_length, output_layer, keep_prob)` function to get the training logits.\n",
    "* Use your `decoding_layer_infer(encoder_state, dec_cell, dec_embeddings, start_of_sequence_id, end_of_sequence_id, max_target_sequence_length, vocab_size, output_layer, batch_size, keep_prob)` function to get the inference logits.\n",
    "\n",
    "Note: You'll need to use [tf.variable_scope](https://www.tensorflow.org/api_docs/python/tf/variable_scope) to share variables between training and inference."
   ]
  },
  {
   "cell_type": "code",
   "execution_count": 13,
   "metadata": {
    "collapsed": false,
    "deletable": true,
    "editable": true
   },
   "outputs": [
    {
     "name": "stdout",
     "output_type": "stream",
     "text": [
      "Tests Passed\n"
     ]
    }
   ],
   "source": [
    "def decoding_layer(dec_input, encoder_state,\n",
    "                   target_sequence_length, max_target_sequence_length,\n",
    "                   rnn_size,\n",
    "                   num_layers, target_vocab_to_int, target_vocab_size,\n",
    "                   batch_size, keep_prob, decoding_embedding_size):\n",
    "    \"\"\"\n",
    "    Create decoding layer\n",
    "    :param dec_input: Decoder input\n",
    "    :param encoder_state: Encoder state\n",
    "    :param target_sequence_length: The lengths of each sequence in the target batch\n",
    "    :param max_target_sequence_length: Maximum length of target sequences\n",
    "    :param rnn_size: RNN Size\n",
    "    :param num_layers: Number of layers\n",
    "    :param target_vocab_to_int: Dictionary to go from the target words to an id\n",
    "    :param target_vocab_size: Size of target vocabulary\n",
    "    :param batch_size: The size of the batch\n",
    "    :param keep_prob: Dropout keep probability\n",
    "    :return: Tuple of (Training BasicDecoderOutput, Inference BasicDecoderOutput)\n",
    "    \"\"\"\n",
    "    dec_embeddings = tf.Variable(tf.random_uniform((target_vocab_size, decoding_embedding_size), -1, 1))\n",
    "    dec_embed_input = tf.nn.embedding_lookup(dec_embeddings, dec_input)\n",
    "\n",
    "    lstm_initializer = tf.random_uniform_initializer(-0.1, 0.1)\n",
    "    lstm_cells = [tf.contrib.rnn.LSTMCell(rnn_size, initializer=lstm_initializer) for _ in range(num_layers)]\n",
    "    dec_cell = tf.contrib.rnn.MultiRNNCell(lstm_cells)\n",
    "\n",
    "    output_layer_kernel_initializer = tf.truncated_normal_initializer(mean=0.0, stddev=0.1)\n",
    "    output_layer = Dense(target_vocab_size, kernel_initializer=output_layer_kernel_initializer)\n",
    "\n",
    "    with tf.variable_scope('decoding_layer') as scope:        \n",
    "        training_output = decoding_layer_train(encoder_state,\n",
    "                                               dec_cell,\n",
    "                                               dec_embed_input,\n",
    "                                               target_sequence_length,\n",
    "                                               max_target_sequence_length,\n",
    "                                               output_layer,\n",
    "                                               keep_prob)\n",
    "        \n",
    "        scope.reuse_variables()\n",
    "        \n",
    "        inference_output = decoding_layer_infer(encoder_state,\n",
    "                                                dec_cell,\n",
    "                                                dec_embeddings,\n",
    "                                                target_vocab_to_int['<GO>'],\n",
    "                                                target_vocab_to_int['<EOS>'],\n",
    "                                                max_target_sequence_length,\n",
    "                                                target_vocab_size,\n",
    "                                                output_layer,\n",
    "                                                batch_size,\n",
    "                                                keep_prob)\n",
    "    \n",
    "    return training_output, inference_output\n",
    "\n",
    "\n",
    "\n",
    "\n",
    "\"\"\"\n",
    "DON'T MODIFY ANYTHING IN THIS CELL THAT IS BELOW THIS LINE\n",
    "\"\"\"\n",
    "tests.test_decoding_layer(decoding_layer)"
   ]
  },
  {
   "cell_type": "markdown",
   "metadata": {
    "deletable": true,
    "editable": true
   },
   "source": [
    "### Build the Neural Network\n",
    "Apply the functions you implemented above to:\n",
    "\n",
    "- Apply embedding to the input data for the encoder.\n",
    "- Encode the input using your `encoding_layer(rnn_inputs, rnn_size, num_layers, keep_prob,  source_sequence_length, source_vocab_size, encoding_embedding_size)`.\n",
    "- Process target data using your `process_decoder_input(target_data, target_vocab_to_int, batch_size)` function.\n",
    "- Apply embedding to the target data for the decoder.\n",
    "- Decode the encoded input using your `decoding_layer(dec_input, enc_state, target_sequence_length, max_target_sentence_length, rnn_size, num_layers, target_vocab_to_int, target_vocab_size, batch_size, keep_prob, dec_embedding_size)` function."
   ]
  },
  {
   "cell_type": "code",
   "execution_count": 14,
   "metadata": {
    "collapsed": false,
    "deletable": true,
    "editable": true
   },
   "outputs": [
    {
     "name": "stdout",
     "output_type": "stream",
     "text": [
      "Tests Passed\n"
     ]
    }
   ],
   "source": [
    "def seq2seq_model(input_data, target_data, keep_prob, batch_size,\n",
    "                  source_sequence_length, target_sequence_length,\n",
    "                  max_target_sentence_length,\n",
    "                  source_vocab_size, target_vocab_size,\n",
    "                  enc_embedding_size, dec_embedding_size,\n",
    "                  rnn_size, num_layers, target_vocab_to_int):\n",
    "    \"\"\"\n",
    "    Build the Sequence-to-Sequence part of the neural network\n",
    "    :param input_data: Input placeholder\n",
    "    :param target_data: Target placeholder\n",
    "    :param keep_prob: Dropout keep probability placeholder\n",
    "    :param batch_size: Batch Size\n",
    "    :param source_sequence_length: Sequence Lengths of source sequences in the batch\n",
    "    :param target_sequence_length: Sequence Lengths of target sequences in the batch\n",
    "    :param source_vocab_size: Source vocabulary size\n",
    "    :param target_vocab_size: Target vocabulary size\n",
    "    :param enc_embedding_size: Decoder embedding size\n",
    "    :param dec_embedding_size: Encoder embedding size\n",
    "    :param rnn_size: RNN Size\n",
    "    :param num_layers: Number of layers\n",
    "    :param target_vocab_to_int: Dictionary to go from the target words to an id\n",
    "    :return: Tuple of (Training BasicDecoderOutput, Inference BasicDecoderOutput)\n",
    "    \"\"\"\n",
    "    # TODO: Implement Function\n",
    "    _, state = encoding_layer(input_data, rnn_size, num_layers, keep_prob, source_sequence_length,\n",
    "                               source_vocab_size, enc_embedding_size)\n",
    "    dec_input = process_decoder_input(target_data, target_vocab_to_int, batch_size)\n",
    "    \n",
    "    training, inference = decoding_layer(dec_input, state, target_sequence_length, max_target_sentence_length, \n",
    "                                        rnn_size, num_layers, target_vocab_to_int, target_vocab_size, batch_size,\n",
    "                                        keep_prob, dec_embedding_size)\n",
    "    \n",
    "    return training, inference\n",
    "    \n",
    "\n",
    "\n",
    "\"\"\"\n",
    "DON'T MODIFY ANYTHING IN THIS CELL THAT IS BELOW THIS LINE\n",
    "\"\"\"\n",
    "tests.test_seq2seq_model(seq2seq_model)"
   ]
  },
  {
   "cell_type": "markdown",
   "metadata": {
    "deletable": true,
    "editable": true
   },
   "source": [
    "## Neural Network Training\n",
    "### Hyperparameters\n",
    "Tune the following parameters:\n",
    "\n",
    "- Set `epochs` to the number of epochs.\n",
    "- Set `batch_size` to the batch size.\n",
    "- Set `rnn_size` to the size of the RNNs.\n",
    "- Set `num_layers` to the number of layers.\n",
    "- Set `encoding_embedding_size` to the size of the embedding for the encoder.\n",
    "- Set `decoding_embedding_size` to the size of the embedding for the decoder.\n",
    "- Set `learning_rate` to the learning rate.\n",
    "- Set `keep_probability` to the Dropout keep probability\n",
    "- Set `display_step` to state how many steps between each debug output statement"
   ]
  },
  {
   "cell_type": "code",
   "execution_count": 15,
   "metadata": {
    "collapsed": true,
    "deletable": true,
    "editable": true
   },
   "outputs": [],
   "source": [
    "# Number of Epochs\n",
    "epochs = 10\n",
    "# Batch Size\n",
    "batch_size = 128\n",
    "# RNN Size\n",
    "rnn_size = 512\n",
    "# Number of Layers\n",
    "num_layers = 2\n",
    "# Embedding Size\n",
    "encoding_embedding_size = 64\n",
    "decoding_embedding_size = 64\n",
    "# Learning Rate\n",
    "learning_rate = .005\n",
    "# Dropout Keep Probability\n",
    "keep_probability = .5\n",
    "display_step = 20"
   ]
  },
  {
   "cell_type": "markdown",
   "metadata": {
    "deletable": true,
    "editable": true
   },
   "source": [
    "### Build the Graph\n",
    "Build the graph using the neural network you implemented."
   ]
  },
  {
   "cell_type": "code",
   "execution_count": 16,
   "metadata": {
    "collapsed": false,
    "deletable": true,
    "editable": true
   },
   "outputs": [],
   "source": [
    "\"\"\"\n",
    "DON'T MODIFY ANYTHING IN THIS CELL\n",
    "\"\"\"\n",
    "save_path = 'checkpoints/dev'\n",
    "(source_int_text, target_int_text), (source_vocab_to_int, target_vocab_to_int), _ = helper.load_preprocess()\n",
    "max_target_sentence_length = max([len(sentence) for sentence in source_int_text])\n",
    "\n",
    "train_graph = tf.Graph()\n",
    "with train_graph.as_default():\n",
    "    input_data, targets, lr, keep_prob, target_sequence_length, max_target_sequence_length, source_sequence_length = model_inputs()\n",
    "\n",
    "    #sequence_length = tf.placeholder_with_default(max_target_sentence_length, None, name='sequence_length')\n",
    "    input_shape = tf.shape(input_data)\n",
    "\n",
    "    train_logits, inference_logits = seq2seq_model(tf.reverse(input_data, [-1]),\n",
    "                                                   targets,\n",
    "                                                   keep_prob,\n",
    "                                                   batch_size,\n",
    "                                                   source_sequence_length,\n",
    "                                                   target_sequence_length,\n",
    "                                                   max_target_sequence_length,\n",
    "                                                   len(source_vocab_to_int),\n",
    "                                                   len(target_vocab_to_int),\n",
    "                                                   encoding_embedding_size,\n",
    "                                                   decoding_embedding_size,\n",
    "                                                   rnn_size,\n",
    "                                                   num_layers,\n",
    "                                                   target_vocab_to_int)\n",
    "\n",
    "\n",
    "    training_logits = tf.identity(train_logits.rnn_output, name='logits')\n",
    "    inference_logits = tf.identity(inference_logits.sample_id, name='predictions')\n",
    "\n",
    "    masks = tf.sequence_mask(target_sequence_length, max_target_sequence_length, dtype=tf.float32, name='masks')\n",
    "\n",
    "    with tf.name_scope(\"optimization\"):\n",
    "        # Loss function\n",
    "        cost = tf.contrib.seq2seq.sequence_loss(\n",
    "            training_logits,\n",
    "            targets,\n",
    "            masks)\n",
    "\n",
    "        # Optimizer\n",
    "        optimizer = tf.train.AdamOptimizer(lr)\n",
    "\n",
    "        # Gradient Clipping\n",
    "        gradients = optimizer.compute_gradients(cost)\n",
    "        capped_gradients = [(tf.clip_by_value(grad, -1., 1.), var) for grad, var in gradients if grad is not None]\n",
    "        train_op = optimizer.apply_gradients(capped_gradients)\n"
   ]
  },
  {
   "cell_type": "markdown",
   "metadata": {
    "deletable": true,
    "editable": true
   },
   "source": [
    "Batch and pad the source and target sequences"
   ]
  },
  {
   "cell_type": "code",
   "execution_count": 17,
   "metadata": {
    "collapsed": true,
    "deletable": true,
    "editable": true
   },
   "outputs": [],
   "source": [
    "\"\"\"\n",
    "DON'T MODIFY ANYTHING IN THIS CELL\n",
    "\"\"\"\n",
    "def pad_sentence_batch(sentence_batch, pad_int):\n",
    "    \"\"\"Pad sentences with <PAD> so that each sentence of a batch has the same length\"\"\"\n",
    "    max_sentence = max([len(sentence) for sentence in sentence_batch])\n",
    "    return [sentence + [pad_int] * (max_sentence - len(sentence)) for sentence in sentence_batch]\n",
    "\n",
    "\n",
    "def get_batches(sources, targets, batch_size, source_pad_int, target_pad_int):\n",
    "    \"\"\"Batch targets, sources, and the lengths of their sentences together\"\"\"\n",
    "    for batch_i in range(0, len(sources)//batch_size):\n",
    "        start_i = batch_i * batch_size\n",
    "\n",
    "        # Slice the right amount for the batch\n",
    "        sources_batch = sources[start_i:start_i + batch_size]\n",
    "        targets_batch = targets[start_i:start_i + batch_size]\n",
    "\n",
    "        # Pad\n",
    "        pad_sources_batch = np.array(pad_sentence_batch(sources_batch, source_pad_int))\n",
    "        pad_targets_batch = np.array(pad_sentence_batch(targets_batch, target_pad_int))\n",
    "\n",
    "        # Need the lengths for the _lengths parameters\n",
    "        pad_targets_lengths = []\n",
    "        for target in pad_targets_batch:\n",
    "            pad_targets_lengths.append(len(target))\n",
    "\n",
    "        pad_source_lengths = []\n",
    "        for source in pad_sources_batch:\n",
    "            pad_source_lengths.append(len(source))\n",
    "\n",
    "        yield pad_sources_batch, pad_targets_batch, pad_source_lengths, pad_targets_lengths\n"
   ]
  },
  {
   "cell_type": "markdown",
   "metadata": {
    "deletable": true,
    "editable": true
   },
   "source": [
    "### Train\n",
    "Train the neural network on the preprocessed data. If you have a hard time getting a good loss, check the forms to see if anyone is having the same problem."
   ]
  },
  {
   "cell_type": "code",
   "execution_count": null,
   "metadata": {
    "collapsed": false,
    "deletable": true,
    "editable": true,
    "scrolled": true
   },
   "outputs": [
    {
     "name": "stdout",
     "output_type": "stream",
     "text": [
      "Epoch   0 Batch   20/1077 - Train Accuracy: 0.2980, Validation Accuracy: 0.3555, Loss: 2.4216\n",
      "Epoch   0 Batch   40/1077 - Train Accuracy: 0.2785, Validation Accuracy: 0.3484, Loss: 1.6924\n",
      "Epoch   0 Batch   60/1077 - Train Accuracy: 0.3259, Validation Accuracy: 0.3299, Loss: 1.1520\n",
      "Epoch   0 Batch   80/1077 - Train Accuracy: 0.2687, Validation Accuracy: 0.3281, Loss: 0.9861\n",
      "Epoch   0 Batch  100/1077 - Train Accuracy: 0.2695, Validation Accuracy: 0.3494, Loss: 0.9284\n",
      "Epoch   0 Batch  120/1077 - Train Accuracy: 0.2371, Validation Accuracy: 0.3249, Loss: 0.9166\n",
      "Epoch   0 Batch  140/1077 - Train Accuracy: 0.2113, Validation Accuracy: 0.3335, Loss: 0.8914\n",
      "Epoch   0 Batch  160/1077 - Train Accuracy: 0.3258, Validation Accuracy: 0.3800, Loss: 0.8146\n",
      "Epoch   0 Batch  180/1077 - Train Accuracy: 0.3848, Validation Accuracy: 0.4531, Loss: 0.7976\n",
      "Epoch   0 Batch  200/1077 - Train Accuracy: 0.4234, Validation Accuracy: 0.4560, Loss: 0.7701\n",
      "Epoch   0 Batch  220/1077 - Train Accuracy: 0.4326, Validation Accuracy: 0.5160, Loss: 0.7383\n",
      "Epoch   0 Batch  240/1077 - Train Accuracy: 0.4879, Validation Accuracy: 0.5366, Loss: 0.6817\n",
      "Epoch   0 Batch  260/1077 - Train Accuracy: 0.4621, Validation Accuracy: 0.4982, Loss: 0.6469\n",
      "Epoch   0 Batch  280/1077 - Train Accuracy: 0.5098, Validation Accuracy: 0.5227, Loss: 0.6719\n",
      "Epoch   0 Batch  300/1077 - Train Accuracy: 0.4885, Validation Accuracy: 0.4915, Loss: 0.6627\n",
      "Epoch   0 Batch  320/1077 - Train Accuracy: 0.5184, Validation Accuracy: 0.5337, Loss: 0.6325\n",
      "Epoch   0 Batch  340/1077 - Train Accuracy: 0.4819, Validation Accuracy: 0.5295, Loss: 0.6661\n",
      "Epoch   0 Batch  360/1077 - Train Accuracy: 0.5145, Validation Accuracy: 0.5412, Loss: 0.6074\n",
      "Epoch   0 Batch  380/1077 - Train Accuracy: 0.5344, Validation Accuracy: 0.5195, Loss: 0.6043\n",
      "Epoch   0 Batch  400/1077 - Train Accuracy: 0.5309, Validation Accuracy: 0.5646, Loss: 0.6259\n",
      "Epoch   0 Batch  420/1077 - Train Accuracy: 0.5578, Validation Accuracy: 0.5724, Loss: 0.5746\n",
      "Epoch   0 Batch  440/1077 - Train Accuracy: 0.5383, Validation Accuracy: 0.5685, Loss: 0.6295\n",
      "Epoch   0 Batch  460/1077 - Train Accuracy: 0.5461, Validation Accuracy: 0.6055, Loss: 0.5926\n",
      "Epoch   0 Batch  480/1077 - Train Accuracy: 0.5995, Validation Accuracy: 0.5909, Loss: 0.5886\n",
      "Epoch   0 Batch  500/1077 - Train Accuracy: 0.5871, Validation Accuracy: 0.6001, Loss: 0.5638\n",
      "Epoch   0 Batch  520/1077 - Train Accuracy: 0.6436, Validation Accuracy: 0.6232, Loss: 0.5137\n",
      "Epoch   0 Batch  540/1077 - Train Accuracy: 0.5887, Validation Accuracy: 0.6158, Loss: 0.5393\n",
      "Epoch   0 Batch  560/1077 - Train Accuracy: 0.5992, Validation Accuracy: 0.6271, Loss: 0.5419\n",
      "Epoch   0 Batch  580/1077 - Train Accuracy: 0.6492, Validation Accuracy: 0.6094, Loss: 0.4920\n",
      "Epoch   0 Batch  600/1077 - Train Accuracy: 0.6179, Validation Accuracy: 0.6179, Loss: 0.5038\n",
      "Epoch   0 Batch  620/1077 - Train Accuracy: 0.5875, Validation Accuracy: 0.6236, Loss: 0.5248\n",
      "Epoch   0 Batch  640/1077 - Train Accuracy: 0.6049, Validation Accuracy: 0.6261, Loss: 0.5031\n",
      "Epoch   0 Batch  660/1077 - Train Accuracy: 0.6023, Validation Accuracy: 0.5916, Loss: 0.5331\n",
      "Epoch   0 Batch  680/1077 - Train Accuracy: 0.5990, Validation Accuracy: 0.5987, Loss: 0.5068\n",
      "Epoch   0 Batch  700/1077 - Train Accuracy: 0.5621, Validation Accuracy: 0.6009, Loss: 0.5203\n",
      "Epoch   0 Batch  720/1077 - Train Accuracy: 0.5987, Validation Accuracy: 0.6048, Loss: 0.5445\n",
      "Epoch   0 Batch  740/1077 - Train Accuracy: 0.6324, Validation Accuracy: 0.6424, Loss: 0.5101\n",
      "Epoch   0 Batch  760/1077 - Train Accuracy: 0.6562, Validation Accuracy: 0.6417, Loss: 0.4799\n",
      "Epoch   0 Batch  780/1077 - Train Accuracy: 0.6328, Validation Accuracy: 0.6399, Loss: 0.4796\n",
      "Epoch   0 Batch  800/1077 - Train Accuracy: 0.6410, Validation Accuracy: 0.6335, Loss: 0.4804\n",
      "Epoch   0 Batch  820/1077 - Train Accuracy: 0.6453, Validation Accuracy: 0.6513, Loss: 0.4969\n",
      "Epoch   0 Batch  840/1077 - Train Accuracy: 0.6375, Validation Accuracy: 0.6630, Loss: 0.4390\n",
      "Epoch   0 Batch  860/1077 - Train Accuracy: 0.6484, Validation Accuracy: 0.6729, Loss: 0.4356\n",
      "Epoch   0 Batch  880/1077 - Train Accuracy: 0.6988, Validation Accuracy: 0.6854, Loss: 0.4372\n",
      "Epoch   0 Batch  900/1077 - Train Accuracy: 0.6973, Validation Accuracy: 0.6815, Loss: 0.4059\n",
      "Epoch   0 Batch  920/1077 - Train Accuracy: 0.6961, Validation Accuracy: 0.6925, Loss: 0.4120\n",
      "Epoch   0 Batch  940/1077 - Train Accuracy: 0.6781, Validation Accuracy: 0.6733, Loss: 0.4052\n",
      "Epoch   0 Batch  960/1077 - Train Accuracy: 0.6808, Validation Accuracy: 0.6733, Loss: 0.3844\n",
      "Epoch   0 Batch  980/1077 - Train Accuracy: 0.7180, Validation Accuracy: 0.7102, Loss: 0.3858\n",
      "Epoch   0 Batch 1000/1077 - Train Accuracy: 0.7318, Validation Accuracy: 0.7028, Loss: 0.3288\n",
      "Epoch   0 Batch 1020/1077 - Train Accuracy: 0.7234, Validation Accuracy: 0.7333, Loss: 0.3640\n",
      "Epoch   0 Batch 1040/1077 - Train Accuracy: 0.7253, Validation Accuracy: 0.7365, Loss: 0.3656\n",
      "Epoch   0 Batch 1060/1077 - Train Accuracy: 0.7594, Validation Accuracy: 0.6985, Loss: 0.3432\n",
      "Epoch   1 Batch   20/1077 - Train Accuracy: 0.7289, Validation Accuracy: 0.7376, Loss: 0.3358\n",
      "Epoch   1 Batch   40/1077 - Train Accuracy: 0.7754, Validation Accuracy: 0.7504, Loss: 0.3262\n",
      "Epoch   1 Batch   60/1077 - Train Accuracy: 0.7749, Validation Accuracy: 0.7624, Loss: 0.3028\n",
      "Epoch   1 Batch   80/1077 - Train Accuracy: 0.7781, Validation Accuracy: 0.7816, Loss: 0.3287\n",
      "Epoch   1 Batch  100/1077 - Train Accuracy: 0.7863, Validation Accuracy: 0.7450, Loss: 0.2982\n",
      "Epoch   1 Batch  120/1077 - Train Accuracy: 0.7422, Validation Accuracy: 0.7720, Loss: 0.3243\n",
      "Epoch   1 Batch  140/1077 - Train Accuracy: 0.7607, Validation Accuracy: 0.7589, Loss: 0.3050\n",
      "Epoch   1 Batch  160/1077 - Train Accuracy: 0.7703, Validation Accuracy: 0.7834, Loss: 0.2958\n",
      "Epoch   1 Batch  180/1077 - Train Accuracy: 0.7637, Validation Accuracy: 0.7720, Loss: 0.2980\n",
      "Epoch   1 Batch  200/1077 - Train Accuracy: 0.8016, Validation Accuracy: 0.7894, Loss: 0.2817\n",
      "Epoch   1 Batch  220/1077 - Train Accuracy: 0.8183, Validation Accuracy: 0.7944, Loss: 0.2856\n",
      "Epoch   1 Batch  240/1077 - Train Accuracy: 0.8555, Validation Accuracy: 0.7997, Loss: 0.2574\n",
      "Epoch   1 Batch  260/1077 - Train Accuracy: 0.8240, Validation Accuracy: 0.7976, Loss: 0.2605\n",
      "Epoch   1 Batch  280/1077 - Train Accuracy: 0.7918, Validation Accuracy: 0.8082, Loss: 0.2658\n",
      "Epoch   1 Batch  300/1077 - Train Accuracy: 0.8462, Validation Accuracy: 0.8295, Loss: 0.2696\n",
      "Epoch   1 Batch  320/1077 - Train Accuracy: 0.8320, Validation Accuracy: 0.8224, Loss: 0.2498\n",
      "Epoch   1 Batch  340/1077 - Train Accuracy: 0.8133, Validation Accuracy: 0.7962, Loss: 0.2690\n",
      "Epoch   1 Batch  360/1077 - Train Accuracy: 0.8523, Validation Accuracy: 0.8239, Loss: 0.2451\n",
      "Epoch   1 Batch  380/1077 - Train Accuracy: 0.8684, Validation Accuracy: 0.8526, Loss: 0.2359\n",
      "Epoch   1 Batch  400/1077 - Train Accuracy: 0.8469, Validation Accuracy: 0.8452, Loss: 0.2406\n",
      "Epoch   1 Batch  420/1077 - Train Accuracy: 0.8668, Validation Accuracy: 0.8335, Loss: 0.2292\n",
      "Epoch   1 Batch  440/1077 - Train Accuracy: 0.8055, Validation Accuracy: 0.8043, Loss: 0.2643\n",
      "Epoch   1 Batch  460/1077 - Train Accuracy: 0.8195, Validation Accuracy: 0.8466, Loss: 0.2423\n",
      "Epoch   1 Batch  480/1077 - Train Accuracy: 0.8335, Validation Accuracy: 0.8263, Loss: 0.2305\n",
      "Epoch   1 Batch  500/1077 - Train Accuracy: 0.8426, Validation Accuracy: 0.8477, Loss: 0.2347\n",
      "Epoch   1 Batch  520/1077 - Train Accuracy: 0.8847, Validation Accuracy: 0.8452, Loss: 0.2093\n",
      "Epoch   1 Batch  540/1077 - Train Accuracy: 0.8492, Validation Accuracy: 0.8484, Loss: 0.2166\n",
      "Epoch   1 Batch  560/1077 - Train Accuracy: 0.8426, Validation Accuracy: 0.8331, Loss: 0.2100\n",
      "Epoch   1 Batch  580/1077 - Train Accuracy: 0.8947, Validation Accuracy: 0.8786, Loss: 0.2027\n",
      "Epoch   1 Batch  600/1077 - Train Accuracy: 0.8504, Validation Accuracy: 0.8608, Loss: 0.2076\n",
      "Epoch   1 Batch  620/1077 - Train Accuracy: 0.8574, Validation Accuracy: 0.8551, Loss: 0.2032\n",
      "Epoch   1 Batch  640/1077 - Train Accuracy: 0.8624, Validation Accuracy: 0.8796, Loss: 0.1984\n",
      "Epoch   1 Batch  660/1077 - Train Accuracy: 0.8875, Validation Accuracy: 0.8445, Loss: 0.2028\n",
      "Epoch   1 Batch  680/1077 - Train Accuracy: 0.8694, Validation Accuracy: 0.8707, Loss: 0.2012\n",
      "Epoch   1 Batch  700/1077 - Train Accuracy: 0.8715, Validation Accuracy: 0.8746, Loss: 0.1935\n",
      "Epoch   1 Batch  720/1077 - Train Accuracy: 0.8660, Validation Accuracy: 0.8775, Loss: 0.2118\n",
      "Epoch   1 Batch  740/1077 - Train Accuracy: 0.8605, Validation Accuracy: 0.8832, Loss: 0.2025\n",
      "Epoch   1 Batch  760/1077 - Train Accuracy: 0.8754, Validation Accuracy: 0.8796, Loss: 0.1835\n",
      "Epoch   1 Batch  780/1077 - Train Accuracy: 0.8469, Validation Accuracy: 0.8658, Loss: 0.2033\n",
      "Epoch   1 Batch  800/1077 - Train Accuracy: 0.8488, Validation Accuracy: 0.8739, Loss: 0.1898\n",
      "Epoch   1 Batch  820/1077 - Train Accuracy: 0.8559, Validation Accuracy: 0.8896, Loss: 0.2060\n",
      "Epoch   1 Batch  840/1077 - Train Accuracy: 0.8516, Validation Accuracy: 0.8867, Loss: 0.1807\n",
      "Epoch   1 Batch  860/1077 - Train Accuracy: 0.8806, Validation Accuracy: 0.8899, Loss: 0.1801\n",
      "Epoch   1 Batch  880/1077 - Train Accuracy: 0.8832, Validation Accuracy: 0.8952, Loss: 0.1897\n",
      "Epoch   1 Batch  900/1077 - Train Accuracy: 0.8867, Validation Accuracy: 0.8874, Loss: 0.1842\n",
      "Epoch   1 Batch  920/1077 - Train Accuracy: 0.8539, Validation Accuracy: 0.8668, Loss: 0.1667\n",
      "Epoch   1 Batch  940/1077 - Train Accuracy: 0.8820, Validation Accuracy: 0.8775, Loss: 0.1635\n",
      "Epoch   1 Batch  960/1077 - Train Accuracy: 0.8869, Validation Accuracy: 0.8746, Loss: 0.1649\n",
      "Epoch   1 Batch  980/1077 - Train Accuracy: 0.8820, Validation Accuracy: 0.8984, Loss: 0.1617\n",
      "Epoch   1 Batch 1000/1077 - Train Accuracy: 0.8880, Validation Accuracy: 0.8949, Loss: 0.1419\n",
      "Epoch   1 Batch 1020/1077 - Train Accuracy: 0.8914, Validation Accuracy: 0.8970, Loss: 0.1484\n",
      "Epoch   1 Batch 1040/1077 - Train Accuracy: 0.8750, Validation Accuracy: 0.8839, Loss: 0.1534\n",
      "Epoch   1 Batch 1060/1077 - Train Accuracy: 0.9125, Validation Accuracy: 0.8906, Loss: 0.1287\n",
      "Epoch   2 Batch   20/1077 - Train Accuracy: 0.8930, Validation Accuracy: 0.9031, Loss: 0.1565\n",
      "Epoch   2 Batch   40/1077 - Train Accuracy: 0.9234, Validation Accuracy: 0.9052, Loss: 0.1398\n",
      "Epoch   2 Batch   60/1077 - Train Accuracy: 0.8921, Validation Accuracy: 0.8913, Loss: 0.1381\n",
      "Epoch   2 Batch   80/1077 - Train Accuracy: 0.8926, Validation Accuracy: 0.9062, Loss: 0.1464\n",
      "Epoch   2 Batch  100/1077 - Train Accuracy: 0.9168, Validation Accuracy: 0.8842, Loss: 0.1327\n",
      "Epoch   2 Batch  120/1077 - Train Accuracy: 0.8812, Validation Accuracy: 0.9020, Loss: 0.1511\n",
      "Epoch   2 Batch  140/1077 - Train Accuracy: 0.9202, Validation Accuracy: 0.8995, Loss: 0.1358\n",
      "Epoch   2 Batch  160/1077 - Train Accuracy: 0.9004, Validation Accuracy: 0.9105, Loss: 0.1353\n",
      "Epoch   2 Batch  180/1077 - Train Accuracy: 0.8879, Validation Accuracy: 0.9091, Loss: 0.1333\n",
      "Epoch   2 Batch  200/1077 - Train Accuracy: 0.9172, Validation Accuracy: 0.9006, Loss: 0.1406\n",
      "Epoch   2 Batch  220/1077 - Train Accuracy: 0.9034, Validation Accuracy: 0.9009, Loss: 0.1227\n",
      "Epoch   2 Batch  240/1077 - Train Accuracy: 0.9250, Validation Accuracy: 0.8935, Loss: 0.1160\n",
      "Epoch   2 Batch  260/1077 - Train Accuracy: 0.8888, Validation Accuracy: 0.9002, Loss: 0.1270\n",
      "Epoch   2 Batch  280/1077 - Train Accuracy: 0.8734, Validation Accuracy: 0.9009, Loss: 0.1400\n",
      "Epoch   2 Batch  300/1077 - Train Accuracy: 0.9071, Validation Accuracy: 0.8977, Loss: 0.1234\n",
      "Epoch   2 Batch  320/1077 - Train Accuracy: 0.8941, Validation Accuracy: 0.9016, Loss: 0.1307\n",
      "Epoch   2 Batch  340/1077 - Train Accuracy: 0.9145, Validation Accuracy: 0.9073, Loss: 0.1245\n",
      "Epoch   2 Batch  360/1077 - Train Accuracy: 0.9176, Validation Accuracy: 0.9176, Loss: 0.1254\n",
      "Epoch   2 Batch  380/1077 - Train Accuracy: 0.9187, Validation Accuracy: 0.9162, Loss: 0.1171\n",
      "Epoch   2 Batch  400/1077 - Train Accuracy: 0.9203, Validation Accuracy: 0.9087, Loss: 0.1255\n",
      "Epoch   2 Batch  420/1077 - Train Accuracy: 0.9313, Validation Accuracy: 0.9116, Loss: 0.1160\n",
      "Epoch   2 Batch  440/1077 - Train Accuracy: 0.8988, Validation Accuracy: 0.8949, Loss: 0.1288\n",
      "Epoch   2 Batch  460/1077 - Train Accuracy: 0.8977, Validation Accuracy: 0.9261, Loss: 0.1269\n",
      "Epoch   2 Batch  480/1077 - Train Accuracy: 0.9104, Validation Accuracy: 0.9052, Loss: 0.1086\n",
      "Epoch   2 Batch  500/1077 - Train Accuracy: 0.9074, Validation Accuracy: 0.9151, Loss: 0.1151\n",
      "Epoch   2 Batch  520/1077 - Train Accuracy: 0.9234, Validation Accuracy: 0.9187, Loss: 0.1120\n",
      "Epoch   2 Batch  540/1077 - Train Accuracy: 0.9121, Validation Accuracy: 0.9073, Loss: 0.1061\n",
      "Epoch   2 Batch  560/1077 - Train Accuracy: 0.9023, Validation Accuracy: 0.9208, Loss: 0.1061\n",
      "Epoch   2 Batch  580/1077 - Train Accuracy: 0.9394, Validation Accuracy: 0.9048, Loss: 0.1047\n",
      "Epoch   2 Batch  600/1077 - Train Accuracy: 0.9289, Validation Accuracy: 0.9205, Loss: 0.1034\n",
      "Epoch   2 Batch  620/1077 - Train Accuracy: 0.9309, Validation Accuracy: 0.9094, Loss: 0.1055\n",
      "Epoch   2 Batch  640/1077 - Train Accuracy: 0.9237, Validation Accuracy: 0.9237, Loss: 0.1036\n",
      "Epoch   2 Batch  660/1077 - Train Accuracy: 0.9574, Validation Accuracy: 0.9251, Loss: 0.0954\n",
      "Epoch   2 Batch  680/1077 - Train Accuracy: 0.9007, Validation Accuracy: 0.9265, Loss: 0.0905\n",
      "Epoch   2 Batch  700/1077 - Train Accuracy: 0.9215, Validation Accuracy: 0.9347, Loss: 0.0952\n",
      "Epoch   2 Batch  720/1077 - Train Accuracy: 0.9305, Validation Accuracy: 0.9311, Loss: 0.0969\n",
      "Epoch   2 Batch  740/1077 - Train Accuracy: 0.9410, Validation Accuracy: 0.9233, Loss: 0.0880\n",
      "Epoch   2 Batch  760/1077 - Train Accuracy: 0.9359, Validation Accuracy: 0.9357, Loss: 0.0873\n",
      "Epoch   2 Batch  780/1077 - Train Accuracy: 0.9246, Validation Accuracy: 0.9375, Loss: 0.0948\n",
      "Epoch   2 Batch  800/1077 - Train Accuracy: 0.9449, Validation Accuracy: 0.9350, Loss: 0.0933\n",
      "Epoch   2 Batch  820/1077 - Train Accuracy: 0.9480, Validation Accuracy: 0.9393, Loss: 0.0742\n",
      "Epoch   2 Batch  840/1077 - Train Accuracy: 0.9461, Validation Accuracy: 0.9428, Loss: 0.0798\n",
      "Epoch   2 Batch  860/1077 - Train Accuracy: 0.9323, Validation Accuracy: 0.9474, Loss: 0.0791\n",
      "Epoch   2 Batch  880/1077 - Train Accuracy: 0.9270, Validation Accuracy: 0.9482, Loss: 0.0790\n",
      "Epoch   2 Batch  900/1077 - Train Accuracy: 0.9617, Validation Accuracy: 0.9329, Loss: 0.0700\n",
      "Epoch   2 Batch  920/1077 - Train Accuracy: 0.9359, Validation Accuracy: 0.9339, Loss: 0.0669\n",
      "Epoch   2 Batch  940/1077 - Train Accuracy: 0.9539, Validation Accuracy: 0.9542, Loss: 0.0650\n",
      "Epoch   2 Batch  960/1077 - Train Accuracy: 0.9442, Validation Accuracy: 0.9524, Loss: 0.0598\n",
      "Epoch   2 Batch  980/1077 - Train Accuracy: 0.9430, Validation Accuracy: 0.9620, Loss: 0.0652\n",
      "Epoch   2 Batch 1000/1077 - Train Accuracy: 0.9479, Validation Accuracy: 0.9425, Loss: 0.0584\n",
      "Epoch   2 Batch 1020/1077 - Train Accuracy: 0.9555, Validation Accuracy: 0.9482, Loss: 0.0478\n",
      "Epoch   2 Batch 1040/1077 - Train Accuracy: 0.9387, Validation Accuracy: 0.9513, Loss: 0.0685\n",
      "Epoch   2 Batch 1060/1077 - Train Accuracy: 0.9723, Validation Accuracy: 0.9631, Loss: 0.0521\n",
      "Epoch   3 Batch   20/1077 - Train Accuracy: 0.9500, Validation Accuracy: 0.9595, Loss: 0.0591\n",
      "Epoch   3 Batch   40/1077 - Train Accuracy: 0.9688, Validation Accuracy: 0.9513, Loss: 0.0438\n",
      "Epoch   3 Batch   60/1077 - Train Accuracy: 0.9609, Validation Accuracy: 0.9357, Loss: 0.0513\n",
      "Epoch   3 Batch   80/1077 - Train Accuracy: 0.9480, Validation Accuracy: 0.9634, Loss: 0.0494\n",
      "Epoch   3 Batch  100/1077 - Train Accuracy: 0.9695, Validation Accuracy: 0.9535, Loss: 0.0496\n",
      "Epoch   3 Batch  120/1077 - Train Accuracy: 0.9363, Validation Accuracy: 0.9581, Loss: 0.0533\n",
      "Epoch   3 Batch  140/1077 - Train Accuracy: 0.9844, Validation Accuracy: 0.9574, Loss: 0.0456\n",
      "Epoch   3 Batch  160/1077 - Train Accuracy: 0.9828, Validation Accuracy: 0.9616, Loss: 0.0426\n",
      "Epoch   3 Batch  180/1077 - Train Accuracy: 0.9652, Validation Accuracy: 0.9560, Loss: 0.0425\n",
      "Epoch   3 Batch  200/1077 - Train Accuracy: 0.9563, Validation Accuracy: 0.9535, Loss: 0.0395\n",
      "Epoch   3 Batch  220/1077 - Train Accuracy: 0.9683, Validation Accuracy: 0.9350, Loss: 0.0481\n",
      "Epoch   3 Batch  240/1077 - Train Accuracy: 0.9785, Validation Accuracy: 0.9556, Loss: 0.0309\n",
      "Epoch   3 Batch  260/1077 - Train Accuracy: 0.9572, Validation Accuracy: 0.9570, Loss: 0.0481\n",
      "Epoch   3 Batch  280/1077 - Train Accuracy: 0.9285, Validation Accuracy: 0.9499, Loss: 0.0417\n",
      "Epoch   3 Batch  300/1077 - Train Accuracy: 0.9733, Validation Accuracy: 0.9577, Loss: 0.0289\n",
      "Epoch   3 Batch  320/1077 - Train Accuracy: 0.9742, Validation Accuracy: 0.9339, Loss: 0.0429\n",
      "Epoch   3 Batch  340/1077 - Train Accuracy: 0.9794, Validation Accuracy: 0.9652, Loss: 0.0350\n",
      "Epoch   3 Batch  360/1077 - Train Accuracy: 0.9371, Validation Accuracy: 0.9581, Loss: 0.0337\n",
      "Epoch   3 Batch  380/1077 - Train Accuracy: 0.9703, Validation Accuracy: 0.9638, Loss: 0.0283\n",
      "Epoch   3 Batch  400/1077 - Train Accuracy: 0.9664, Validation Accuracy: 0.9567, Loss: 0.0376\n",
      "Epoch   3 Batch  420/1077 - Train Accuracy: 0.9785, Validation Accuracy: 0.9528, Loss: 0.0287\n",
      "Epoch   3 Batch  440/1077 - Train Accuracy: 0.9469, Validation Accuracy: 0.9464, Loss: 0.0396\n",
      "Epoch   3 Batch  460/1077 - Train Accuracy: 0.9727, Validation Accuracy: 0.9595, Loss: 0.0445\n",
      "Epoch   3 Batch  480/1077 - Train Accuracy: 0.9552, Validation Accuracy: 0.9570, Loss: 0.0295\n",
      "Epoch   3 Batch  500/1077 - Train Accuracy: 0.9781, Validation Accuracy: 0.9737, Loss: 0.0260\n",
      "Epoch   3 Batch  520/1077 - Train Accuracy: 0.9773, Validation Accuracy: 0.9616, Loss: 0.0276\n",
      "Epoch   3 Batch  540/1077 - Train Accuracy: 0.9699, Validation Accuracy: 0.9613, Loss: 0.0306\n",
      "Epoch   3 Batch  560/1077 - Train Accuracy: 0.9512, Validation Accuracy: 0.9542, Loss: 0.0305\n",
      "Epoch   3 Batch  580/1077 - Train Accuracy: 0.9710, Validation Accuracy: 0.9528, Loss: 0.0263\n",
      "Epoch   3 Batch  600/1077 - Train Accuracy: 0.9550, Validation Accuracy: 0.9634, Loss: 0.0358\n",
      "Epoch   3 Batch  620/1077 - Train Accuracy: 0.9738, Validation Accuracy: 0.9620, Loss: 0.0285\n",
      "Epoch   3 Batch  640/1077 - Train Accuracy: 0.9680, Validation Accuracy: 0.9730, Loss: 0.0300\n",
      "Epoch   3 Batch  660/1077 - Train Accuracy: 0.9793, Validation Accuracy: 0.9688, Loss: 0.0251\n",
      "Epoch   3 Batch  680/1077 - Train Accuracy: 0.9528, Validation Accuracy: 0.9581, Loss: 0.0237\n",
      "Epoch   3 Batch  700/1077 - Train Accuracy: 0.9871, Validation Accuracy: 0.9624, Loss: 0.0183\n",
      "Epoch   3 Batch  720/1077 - Train Accuracy: 0.9757, Validation Accuracy: 0.9780, Loss: 0.0307\n",
      "Epoch   3 Batch  740/1077 - Train Accuracy: 0.9656, Validation Accuracy: 0.9602, Loss: 0.0249\n",
      "Epoch   3 Batch  760/1077 - Train Accuracy: 0.9801, Validation Accuracy: 0.9538, Loss: 0.0330\n",
      "Epoch   3 Batch  780/1077 - Train Accuracy: 0.9617, Validation Accuracy: 0.9517, Loss: 0.0350\n",
      "Epoch   3 Batch  800/1077 - Train Accuracy: 0.9777, Validation Accuracy: 0.9570, Loss: 0.0289\n",
      "Epoch   3 Batch  820/1077 - Train Accuracy: 0.9723, Validation Accuracy: 0.9567, Loss: 0.0235\n",
      "Epoch   3 Batch  840/1077 - Train Accuracy: 0.9691, Validation Accuracy: 0.9712, Loss: 0.0410\n",
      "Epoch   3 Batch  860/1077 - Train Accuracy: 0.9505, Validation Accuracy: 0.9677, Loss: 0.0316\n",
      "Epoch   3 Batch  880/1077 - Train Accuracy: 0.9676, Validation Accuracy: 0.9787, Loss: 0.0344\n",
      "Epoch   3 Batch  900/1077 - Train Accuracy: 0.9773, Validation Accuracy: 0.9620, Loss: 0.0443\n",
      "Epoch   3 Batch  920/1077 - Train Accuracy: 0.9652, Validation Accuracy: 0.9727, Loss: 0.0263\n",
      "Epoch   3 Batch  940/1077 - Train Accuracy: 0.9645, Validation Accuracy: 0.9663, Loss: 0.0258\n",
      "Epoch   3 Batch  960/1077 - Train Accuracy: 0.9542, Validation Accuracy: 0.9705, Loss: 0.0334\n",
      "Epoch   3 Batch  980/1077 - Train Accuracy: 0.9688, Validation Accuracy: 0.9727, Loss: 0.0244\n"
     ]
    }
   ],
   "source": [
    "\"\"\"\n",
    "DON'T MODIFY ANYTHING IN THIS CELL\n",
    "\"\"\"\n",
    "def get_accuracy(target, logits):\n",
    "    \"\"\"\n",
    "    Calculate accuracy\n",
    "    \"\"\"\n",
    "    max_seq = max(target.shape[1], logits.shape[1])\n",
    "    if max_seq - target.shape[1]:\n",
    "        target = np.pad(\n",
    "            target,\n",
    "            [(0,0),(0,max_seq - target.shape[1])],\n",
    "            'constant')\n",
    "    if max_seq - logits.shape[1]:\n",
    "        logits = np.pad(\n",
    "            logits,\n",
    "            [(0,0),(0,max_seq - logits.shape[1])],\n",
    "            'constant')\n",
    "\n",
    "    return np.mean(np.equal(target, logits))\n",
    "\n",
    "# Split data to training and validation sets\n",
    "train_source = source_int_text[batch_size:]\n",
    "train_target = target_int_text[batch_size:]\n",
    "valid_source = source_int_text[:batch_size]\n",
    "valid_target = target_int_text[:batch_size]\n",
    "(valid_sources_batch, valid_targets_batch, valid_sources_lengths, valid_targets_lengths ) = next(get_batches(valid_source,\n",
    "                                                                                                             valid_target,\n",
    "                                                                                                             batch_size,\n",
    "                                                                                                             source_vocab_to_int['<PAD>'],\n",
    "                                                                                                             target_vocab_to_int['<PAD>']))                                                                                                  \n",
    "with tf.Session(graph=train_graph) as sess:\n",
    "    sess.run(tf.global_variables_initializer())\n",
    "\n",
    "    for epoch_i in range(epochs):\n",
    "        for batch_i, (source_batch, target_batch, sources_lengths, targets_lengths) in enumerate(\n",
    "                get_batches(train_source, train_target, batch_size,\n",
    "                            source_vocab_to_int['<PAD>'],\n",
    "                            target_vocab_to_int['<PAD>'])):\n",
    "\n",
    "            _, loss = sess.run(\n",
    "                [train_op, cost],\n",
    "                {input_data: source_batch,\n",
    "                 targets: target_batch,\n",
    "                 lr: learning_rate,\n",
    "                 target_sequence_length: targets_lengths,\n",
    "                 source_sequence_length: sources_lengths,\n",
    "                 keep_prob: keep_probability})\n",
    "\n",
    "\n",
    "            if batch_i % display_step == 0 and batch_i > 0:\n",
    "\n",
    "\n",
    "                batch_train_logits = sess.run(\n",
    "                    inference_logits,\n",
    "                    {input_data: source_batch,\n",
    "                     source_sequence_length: sources_lengths,\n",
    "                     target_sequence_length: targets_lengths,\n",
    "                     keep_prob: 1.0})\n",
    "\n",
    "\n",
    "                batch_valid_logits = sess.run(\n",
    "                    inference_logits,\n",
    "                    {input_data: valid_sources_batch,\n",
    "                     source_sequence_length: valid_sources_lengths,\n",
    "                     target_sequence_length: valid_targets_lengths,\n",
    "                     keep_prob: 1.0})\n",
    "\n",
    "                train_acc = get_accuracy(target_batch, batch_train_logits)\n",
    "\n",
    "                valid_acc = get_accuracy(valid_targets_batch, batch_valid_logits)\n",
    "\n",
    "                print('Epoch {:>3} Batch {:>4}/{} - Train Accuracy: {:>6.4f}, Validation Accuracy: {:>6.4f}, Loss: {:>6.4f}'\n",
    "                      .format(epoch_i, batch_i, len(source_int_text) // batch_size, train_acc, valid_acc, loss))\n",
    "\n",
    "    # Save Model\n",
    "    saver = tf.train.Saver()\n",
    "    saver.save(sess, save_path)\n",
    "    print('Model Trained and Saved')"
   ]
  },
  {
   "cell_type": "markdown",
   "metadata": {
    "deletable": true,
    "editable": true
   },
   "source": [
    "### Save Parameters\n",
    "Save the `batch_size` and `save_path` parameters for inference."
   ]
  },
  {
   "cell_type": "code",
   "execution_count": 22,
   "metadata": {
    "collapsed": true,
    "deletable": true,
    "editable": true
   },
   "outputs": [],
   "source": [
    "\"\"\"\n",
    "DON'T MODIFY ANYTHING IN THIS CELL\n",
    "\"\"\"\n",
    "# Save parameters for checkpoint\n",
    "helper.save_params(save_path)"
   ]
  },
  {
   "cell_type": "markdown",
   "metadata": {
    "deletable": true,
    "editable": true
   },
   "source": [
    "# Checkpoint"
   ]
  },
  {
   "cell_type": "code",
   "execution_count": 23,
   "metadata": {
    "collapsed": true,
    "deletable": true,
    "editable": true
   },
   "outputs": [],
   "source": [
    "\"\"\"\n",
    "DON'T MODIFY ANYTHING IN THIS CELL\n",
    "\"\"\"\n",
    "import tensorflow as tf\n",
    "import numpy as np\n",
    "import helper\n",
    "import problem_unittests as tests\n",
    "\n",
    "_, (source_vocab_to_int, target_vocab_to_int), (source_int_to_vocab, target_int_to_vocab) = helper.load_preprocess()\n",
    "load_path = helper.load_params()"
   ]
  },
  {
   "cell_type": "markdown",
   "metadata": {
    "deletable": true,
    "editable": true
   },
   "source": [
    "## Sentence to Sequence\n",
    "To feed a sentence into the model for translation, you first need to preprocess it.  Implement the function `sentence_to_seq()` to preprocess new sentences.\n",
    "\n",
    "- Convert the sentence to lowercase\n",
    "- Convert words into ids using `vocab_to_int`\n",
    " - Convert words not in the vocabulary, to the `<UNK>` word id."
   ]
  },
  {
   "cell_type": "code",
   "execution_count": 24,
   "metadata": {
    "collapsed": false,
    "deletable": true,
    "editable": true
   },
   "outputs": [
    {
     "name": "stdout",
     "output_type": "stream",
     "text": [
      "Tests Passed\n"
     ]
    }
   ],
   "source": [
    "def sentence_to_seq(sentence, vocab_to_int):\n",
    "    \"\"\"\n",
    "    Convert a sentence to a sequence of ids\n",
    "    :param sentence: String\n",
    "    :param vocab_to_int: Dictionary to go from the words to an id\n",
    "    :return: List of word ids\n",
    "    \"\"\"\n",
    "    # TODO: Implement Function\n",
    "    ids = list(map(lambda x: vocab_to_int[x] if x in vocab_to_int else vocab_to_int['<UNK>'], sentence.lower().split()))\n",
    "    \n",
    "    return ids\n",
    "    \n",
    "\n",
    "\"\"\"\n",
    "DON'T MODIFY ANYTHING IN THIS CELL THAT IS BELOW THIS LINE\n",
    "\"\"\"\n",
    "tests.test_sentence_to_seq(sentence_to_seq)"
   ]
  },
  {
   "cell_type": "markdown",
   "metadata": {
    "deletable": true,
    "editable": true
   },
   "source": [
    "## Translate\n",
    "This will translate `translate_sentence` from English to French."
   ]
  },
  {
   "cell_type": "code",
   "execution_count": 26,
   "metadata": {
    "collapsed": false,
    "deletable": true,
    "editable": true
   },
   "outputs": [
    {
     "name": "stdout",
     "output_type": "stream",
     "text": [
      "INFO:tensorflow:Restoring parameters from checkpoints/dev\n",
      "Input\n",
      "  Word Ids:      [123, 156, 153, 195, 52, 105, 159]\n",
      "  English Words: ['he', 'saw', 'a', 'old', 'yellow', 'truck', '.']\n",
      "\n",
      "Prediction\n",
      "  Word Ids:      [277, 156, 320, 150, 151, 16, 191, 159, 1]\n",
      "  French Words: il a vu un vieux automobile jaune . <EOS>\n"
     ]
    }
   ],
   "source": [
    "translate_sentence = 'he saw a old yellow truck .'\n",
    "\n",
    "\n",
    "\"\"\"\n",
    "DON'T MODIFY ANYTHING IN THIS CELL\n",
    "\"\"\"\n",
    "translate_sentence = sentence_to_seq(translate_sentence, source_vocab_to_int)\n",
    "\n",
    "loaded_graph = tf.Graph()\n",
    "with tf.Session(graph=loaded_graph) as sess:\n",
    "    # Load saved model\n",
    "    loader = tf.train.import_meta_graph(load_path + '.meta')\n",
    "    loader.restore(sess, load_path)\n",
    "\n",
    "    input_data = loaded_graph.get_tensor_by_name('input:0')\n",
    "    logits = loaded_graph.get_tensor_by_name('predictions:0')\n",
    "    target_sequence_length = loaded_graph.get_tensor_by_name('target_sequence_length:0')\n",
    "    source_sequence_length = loaded_graph.get_tensor_by_name('source_sequence_length:0')\n",
    "    keep_prob = loaded_graph.get_tensor_by_name('keep_prob:0')\n",
    "\n",
    "    translate_logits = sess.run(logits, {input_data: [translate_sentence]*batch_size,\n",
    "                                         target_sequence_length: [len(translate_sentence)*2]*batch_size,\n",
    "                                         source_sequence_length: [len(translate_sentence)]*batch_size,\n",
    "                                         keep_prob: 1.0})[0]\n",
    "\n",
    "print('Input')\n",
    "print('  Word Ids:      {}'.format([i for i in translate_sentence]))\n",
    "print('  English Words: {}'.format([source_int_to_vocab[i] for i in translate_sentence]))\n",
    "\n",
    "print('\\nPrediction')\n",
    "print('  Word Ids:      {}'.format([i for i in translate_logits]))\n",
    "print('  French Words: {}'.format(\" \".join([target_int_to_vocab[i] for i in translate_logits])))\n"
   ]
  },
  {
   "cell_type": "markdown",
   "metadata": {
    "deletable": true,
    "editable": true
   },
   "source": [
    "## Imperfect Translation\n",
    "You might notice that some sentences translate better than others.  Since the dataset you're using only has a vocabulary of 227 English words of the thousands that you use, you're only going to see good results using these words.  For this project, you don't need a perfect translation. However, if you want to create a better translation model, you'll need better data.\n",
    "\n",
    "You can train on the [WMT10 French-English corpus](http://www.statmt.org/wmt10/training-giga-fren.tar).  This dataset has more vocabulary and richer in topics discussed.  However, this will take you days to train, so make sure you've a GPU and the neural network is performing well on dataset we provided.  Just make sure you play with the WMT10 corpus after you've submitted this project.\n",
    "## Submitting This Project\n",
    "When submitting this project, make sure to run all the cells before saving the notebook. Save the notebook file as \"dlnd_language_translation.ipynb\" and save it as a HTML file under \"File\" -> \"Download as\". Include the \"helper.py\" and \"problem_unittests.py\" files in your submission."
   ]
  },
  {
   "cell_type": "code",
   "execution_count": null,
   "metadata": {
    "collapsed": true,
    "deletable": true,
    "editable": true
   },
   "outputs": [],
   "source": []
  }
 ],
 "metadata": {
  "anaconda-cloud": {},
  "kernelspec": {
   "display_name": "Python 3",
   "language": "python",
   "name": "python3"
  },
  "language_info": {
   "codemirror_mode": {
    "name": "ipython",
    "version": 3
   },
   "file_extension": ".py",
   "mimetype": "text/x-python",
   "name": "python",
   "nbconvert_exporter": "python",
   "pygments_lexer": "ipython3",
   "version": "3.5.2"
  },
  "widgets": {
   "state": {},
   "version": "1.1.2"
  }
 },
 "nbformat": 4,
 "nbformat_minor": 1
}
